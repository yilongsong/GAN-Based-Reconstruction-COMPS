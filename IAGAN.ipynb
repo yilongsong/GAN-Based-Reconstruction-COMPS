{
  "cells": [
    {
      "cell_type": "markdown",
      "metadata": {
        "id": "view-in-github",
        "colab_type": "text"
      },
      "source": [
        "<a href=\"https://colab.research.google.com/github/yilongsong/GAN-Based-Reconstruction-COMPS/blob/daisuke/IAGAN.ipynb\" target=\"_parent\"><img src=\"https://colab.research.google.com/assets/colab-badge.svg\" alt=\"Open In Colab\"/></a>"
      ]
    },
    {
      "cell_type": "code",
      "execution_count": 1,
      "metadata": {
        "id": "eV3a3koAF-NU",
        "outputId": "4da5e84b-21a5-4874-ab51-5aacb4cea4f5",
        "colab": {
          "base_uri": "https://localhost:8080/"
        }
      },
      "outputs": [
        {
          "output_type": "stream",
          "name": "stdout",
          "text": [
            "Cloning into 'GAN-Based-Reconstruction-COMPS'...\n",
            "remote: Enumerating objects: 1001, done.\u001b[K\n",
            "remote: Counting objects: 100% (163/163), done.\u001b[K\n",
            "remote: Compressing objects: 100% (151/151), done.\u001b[K\n",
            "remote: Total 1001 (delta 18), reused 146 (delta 12), pack-reused 838\u001b[K\n",
            "Receiving objects: 100% (1001/1001), 298.18 MiB | 47.82 MiB/s, done.\n",
            "Resolving deltas: 100% (292/292), done.\n",
            "Checking out files: 100% (429/429), done.\n",
            "/content/GAN-Based-Reconstruction-COMPS\n"
          ]
        }
      ],
      "source": [
        "!git clone https://github.com/yilongsong/GAN-Based-Reconstruction-COMPS.git\n",
        "%cd /content/GAN-Based-Reconstruction-COMPS"
      ]
    },
    {
      "cell_type": "code",
      "source": [
        "!git checkout daisuke \n"
      ],
      "metadata": {
        "id": "my_IIcg9GYH6",
        "outputId": "3d225d55-8850-44ee-acfa-928c52358b3c",
        "colab": {
          "base_uri": "https://localhost:8080/"
        }
      },
      "execution_count": 2,
      "outputs": [
        {
          "output_type": "stream",
          "name": "stdout",
          "text": [
            "Branch 'daisuke' set up to track remote branch 'daisuke' from 'origin'.\n",
            "Switched to a new branch 'daisuke'\n"
          ]
        }
      ]
    },
    {
      "cell_type": "code",
      "source": [
        "!git status\n"
      ],
      "metadata": {
        "id": "sly7jXcPGd59",
        "outputId": "2b173a9c-38f3-48a3-d01d-ca11a816997e",
        "colab": {
          "base_uri": "https://localhost:8080/"
        }
      },
      "execution_count": 3,
      "outputs": [
        {
          "output_type": "stream",
          "name": "stdout",
          "text": [
            "On branch daisuke\n",
            "Your branch is up to date with 'origin/daisuke'.\n",
            "\n",
            "nothing to commit, working tree clean\n"
          ]
        }
      ]
    }
  ],
  "metadata": {
    "language_info": {
      "name": "python"
    },
    "orig_nbformat": 4,
    "colab": {
      "provenance": [],
      "include_colab_link": true
    },
    "kernelspec": {
      "name": "python3",
      "display_name": "Python 3"
    }
  },
  "nbformat": 4,
  "nbformat_minor": 0
}